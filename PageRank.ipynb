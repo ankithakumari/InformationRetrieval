{
 "cells": [
  {
   "cell_type": "code",
   "execution_count": null,
   "metadata": {
    "collapsed": true
   },
   "outputs": [],
   "source": [
    "Implementation of page ranking algorithm for "
   ]
  },
  {
   "cell_type": "code",
   "execution_count": 1,
   "metadata": {
    "collapsed": true
   },
   "outputs": [],
   "source": [
    "\n",
    "import requests\n",
    "\n",
    "from bs4 import BeautifulSoup\n",
    "import time\n",
    "import string\n",
    "import os\n",
    "import re\n",
    "import collections\n",
    "from nltk import word_tokenize, regexp_tokenize, ngrams, FreqDist\n",
    "from nltk.corpus import stopwords\n",
    "import numpy as np\n",
    "from urllib.parse import urlsplit\n",
    "import matplotlib.pyplot as plt\n",
    "%matplotlib inline"
   ]
  },
  {
   "cell_type": "markdown",
   "metadata": {},
   "source": [
    "## TASK 2"
   ]
  },
  {
   "cell_type": "code",
   "execution_count": 3,
   "metadata": {
    "collapsed": true
   },
   "outputs": [],
   "source": [
    "# This function will exclude images, links to sections in the same page and non english urls\n",
    "def excludeURL(url):\n",
    "    not_english = False\n",
    "    not_new_urls = (url.startswith('#') or url.endswith('.jpg') or url.startswith('//') or url.startswith('/w/index.php')\n",
    "                   or ':' in url)\n",
    "    if \"https\" in url:\n",
    "        url = url.replace(\"https://\", \"\")\n",
    "        not_english = not(url.startswith(\"en\"))\n",
    "    return not_new_urls or not_english\n",
    "\n",
    "# The following function is used to retrieve all valid urls in a page\n",
    "# for a given url it returns all links in the current page\n",
    "\n",
    "def getURLs(parent_url):\n",
    "    url_init = \"https://en.wikipedia.org\"\n",
    "    time.sleep(0.5)\n",
    "    page = requests.get(parent_url)\n",
    "    soup = BeautifulSoup(page.content, 'html.parser')\n",
    "    urls = soup.find_all('a', href = True)\n",
    "    return [url_init + item['href'] for item in urls if not excludeURL(item['href'])]\n",
    "\n",
    "\n",
    "# Helper function to get title of the page from a URL\n",
    "# Input: URL , Output: Title of the page pointed to by the url\n",
    "\n",
    "def get_docId(url):\n",
    "    parsed = urlsplit(url)\n",
    "    return parsed.path.split('/')[2]\n",
    "    \n",
    "\n",
    "# Build a graph given a list of URLs\n",
    "# Returns a graph as a adjacency list\n",
    "# For every url in the list :\n",
    "# Get all outgoing links\n",
    "# append the current url to each of those link's incoming list if the link is also in the list\n",
    "\n",
    "\n",
    "def buildGraph(url_list):\n",
    "    G1 = collections.defaultdict(list)\n",
    "    for url in url_list:\n",
    "        out_node = get_docId(url)\n",
    "        links = getURLs(url)\n",
    "        for link in links:\n",
    "            link = link.split('#')[0]\n",
    "            if link in url_list:\n",
    "                in_node = get_docId(link)\n",
    "                if out_node not in G1[in_node] and out_node != in_node:\n",
    "                    G1[in_node].append(out_node)\n",
    "    return G1\n",
    "\n",
    "\n",
    "\n",
    "#Helper function to reverse graph as the initial graph has incoming links\n",
    "#Traverses through each node in the graph and adds current node as outgoing \n",
    "#node for every neighbor\n",
    "\n",
    "def reverseGraph(G):\n",
    "    G_rev = collections.defaultdict(list)\n",
    "    for vertex in G.keys():\n",
    "        for neighbor in G[vertex]:\n",
    "            G_rev[neighbor].append(vertex)\n",
    "    return G_rev\n",
    "        \n",
    "    \n",
    "\n"
   ]
  },
  {
   "cell_type": "code",
   "execution_count": 4,
   "metadata": {
    "collapsed": true
   },
   "outputs": [],
   "source": [
    "urls = open(\"BFS.txt\", \"r\").read().splitlines()\n",
    "G1 = buildGraph(urls)"
   ]
  },
  {
   "cell_type": "code",
   "execution_count": 5,
   "metadata": {
    "collapsed": true
   },
   "outputs": [],
   "source": [
    "focused_urls = open(\"FOCUSED.txt\", 'r').read().splitlines()\n",
    "G2 = buildGraph(focused_urls)"
   ]
  },
  {
   "cell_type": "code",
   "execution_count": 9,
   "metadata": {
    "collapsed": false
   },
   "outputs": [],
   "source": [
    "# Save graph files\n",
    "f = open(\"Graph_G1.txt\", 'w+')\n",
    "for item,value in G1.items():\n",
    "    f.write(item + \" : \" + str(value) + \"\\n\")\n",
    "f.close()\n",
    "f = open(\"Graph_G2.txt\", \"w\")\n",
    "for item,value in G2.items():\n",
    "    f.write(item + \" : \" + str(value) + \"\\n\")\n",
    "f.close()"
   ]
  },
  {
   "cell_type": "code",
   "execution_count": 23,
   "metadata": {
    "collapsed": false
   },
   "outputs": [
    {
     "name": "stdout",
     "output_type": "stream",
     "text": [
      "Number of sources with zero inlinks for G1:  1\n",
      "Sources in G1 with no in-links:  ['Ceres']\n",
      "Maximum in-degree in G1:  345\n",
      "Number of sources with zero inlinks for G2:  1\n",
      "Sources in G2 with no in-links:  ['ExoMars_Rover']\n",
      "Maximum in-degree in G2:  464\n"
     ]
    }
   ],
   "source": [
    "# Statistics of G1 and G2\n",
    "zero_inLinks = [item for item, value in G1.items() if len(G1[item]) == 0]\n",
    "print(\"Number of sources with zero inlinks for G1: \", len(zero_inLinks))\n",
    "print(\"Sources in G1 with no in-links: \", zero_inLinks)\n",
    "max_indegree = max([len(values) for item, values in G1.items()])\n",
    "print(\"Maximum in-degree in G1: \", max_indegree)\n",
    "zero_inLinks_G2 = [get_docId(item) for item in focused_urls if get_docId(item) not in G2.keys()]\n",
    "print(\"Number of sources with zero inlinks for G2: \", len(zero_inLinks_G2))\n",
    "print(\"Sources in G2 with no in-links: \", zero_inLinks_G2)\n",
    "max_indegree_G2 = max([len(values) for item, values in G2.items()])\n",
    "print(\"Maximum in-degree in G2: \", max_indegree_G2)\n",
    "\n"
   ]
  },
  {
   "cell_type": "code",
   "execution_count": 27,
   "metadata": {
    "collapsed": false
   },
   "outputs": [
    {
     "name": "stdout",
     "output_type": "stream",
     "text": [
      "Number of sources with zero outlinks for G1:  8\n",
      "Sources in G1 with no out-links:  ['Crore', 'Private_property', 'Land_claim', 'Northwestern_India', 'Alpine_exploration', 'Emmeline_Stuart-Wortley', 'Lethargy', 'Acute_health_hazard']\n",
      "Maximum out-degree in G1:  373\n",
      "Number of sources with zero outlinks for G2:  54\n",
      "Sources in G2 with no out-links:  ['Mark_Andrews_(filmmaker)', 'Return_to_Mars', 'Fractional_Orbital_Bombardment_System', 'Marinococcus', 'Al-Aqsa_Martyrs%27_Brigades', 'Stalin_vs._Martians', 'Men,_Martians_and_Machines', 'The_Martian_Chronicles_(video_game)', 'Maurice_LaMarche', 'Steve_Martin', 'Marching_band', 'Trojan_Marching_Band', 'Bi-Mart', 'Don_Markstein%27s_Toonopedia', 'Martha_Coolidge', 'San_Marino', 'Marie_Curie', 'Mark_82_bomb', 'Mars_Society_Australia', 'Lobster_Man_from_Mars', 'Mary_A._Turzillo', 'Alastair_Reynolds', 'Sky_Galleons_of_Mars', 'Marvel_Family', 'Mars_Matrix', 'Terraforming_Mars_(board_game)', 'Marketing_mix', 'Marshall_Savage', 'Vladimir_Mikhailovich_Komarov', 'Danish_Maritime_Authority', 'Lyapunov_stability', 'Francesco_Maria_Grimaldi', 'Mariana_Trench', 'Technical_University_of_Denmark', 'Marriage', 'Marty_Friedman_(guitarist)', 'Biz_Markie', 'Demand_(economics)', 'Lamarckism', 'Martin_J._S._Rudwick', 'World_Register_of_Marine_Species', 'Apis_mellifera_lamarckii', 'Amelanchier_lamarckii', 'Digitalis_lanata', 'Aconitum_lamarckii', 'Lamarckia', 'Oenothera_lamarckiana', 'Rhizophora_x_lamarckii', 'Smart_Communications', 'Marble_(toy)', 'Monroe_H._Martin_Prize', 'Sub_Marine_Explorer', 'Denmark_Strait', 'Submarine_power_cable']\n",
      "Maximum out-degree in G2:  237\n"
     ]
    }
   ],
   "source": [
    "G1_rev = reverseGraph(G1)\n",
    "G2_rev = reverseGraph(G2)\n",
    "zero_outLinks = [get_docId(item) for item in urls if get_docId(item) not in G1_rev.keys()]\n",
    "print(\"Number of sources with zero outlinks for G1: \", len(zero_outLinks))\n",
    "print(\"Sources in G1 with no out-links: \", zero_outLinks)\n",
    "max_outdegree = max([len(values) for item, values in G1_rev.items()])\n",
    "print(\"Maximum out-degree in G1: \", max_outdegree)\n",
    "zero_outLinks_G2 = [get_docId(item) for item in focused_urls if get_docId(item) not in G2_rev.keys()]\n",
    "print(\"Number of sources with zero outlinks for G2: \", len(zero_outLinks_G2))\n",
    "print(\"Sources in G2 with no out-links: \", zero_outLinks_G2)\n",
    "max_outdegree_G2 = max([len(values) for item, values in G2_rev.items()])\n",
    "print(\"Maximum out-degree in G2: \", max_outdegree_G2)\n",
    "\n"
   ]
  },
  {
   "cell_type": "code",
   "execution_count": 26,
   "metadata": {
    "collapsed": false
   },
   "outputs": [
    {
     "data": {
      "text/plain": [
       "['https://en.wikipedia.org/wiki/Crore',\n",
       " 'https://en.wikipedia.org/wiki/Private_property',\n",
       " 'https://en.wikipedia.org/wiki/Land_claim',\n",
       " 'https://en.wikipedia.org/wiki/Northwestern_India',\n",
       " 'https://en.wikipedia.org/wiki/Alpine_exploration',\n",
       " 'https://en.wikipedia.org/wiki/Emmeline_Stuart-Wortley',\n",
       " 'https://en.wikipedia.org/wiki/Lethargy',\n",
       " 'https://en.wikipedia.org/wiki/Acute_health_hazard']"
      ]
     },
     "execution_count": 26,
     "metadata": {},
     "output_type": "execute_result"
    }
   ],
   "source": [
    "[get_docId(item) for item in urls if get_docId(item) not in G1_rev.keys()]"
   ]
  },
  {
   "cell_type": "markdown",
   "metadata": {},
   "source": [
    "## TASK 3"
   ]
  },
  {
   "cell_type": "code",
   "execution_count": 109,
   "metadata": {
    "collapsed": true
   },
   "outputs": [],
   "source": [
    "''' Page Rank implementation based on the algorithm in Textbook\n",
    "Input: Graph, number of nodes in the graph with outgoing links, Lambda, maximum number of iterations \n",
    "Output: Pages sorted by their ranks in descending order\n",
    "'''\n",
    "\n",
    "def pageRank(G, N, alpha, max_iterations):\n",
    "    sum_page_rank = []\n",
    "    l2_norm = []\n",
    "    P = list(G.keys())          # All pages with outgoing links\n",
    "    I = np.zeros(N)             # Current page rank estimate vector\n",
    "    R = np.zeros(N)             # vector that will hold the better estimate for page rank\n",
    "    I = I + (1 / N) # Initialize the vector with initial probabilities\n",
    "    I_p = I\n",
    "    tolerance = 0.0005          # convergence factor\n",
    "    diff = float('inf')         # variable to store improvement  after each iteration\n",
    "    iterations = 0\n",
    "    converge_iter = 0           # to track converging iterations\n",
    "    while iterations < max_iterations and converge_iter <= 4:\n",
    "        R = np.zeros(N) + (alpha / N)                                       # Initialize R with lambda/|P|\n",
    "        for page in P:\n",
    "            idx = P.index(page)                          # For every page get its index so that corresponding rank can be updated\n",
    "            Q = [item for item in G[page] if item in P]  # Get only non dangling links\n",
    "            if len(Q) > 0:\n",
    "                for link in Q:\n",
    "                    R[P.index(link)] += (1 - alpha) * I[idx] / len(Q)    # Update corresponding rank with probability of being at p\n",
    "            else:\n",
    "                for p in P:                               # No outgoing links - update all pages with prob (1 − λ)Ip\n",
    "                    p_idx = P.index(p)\n",
    "                    R[p_idx] += (1 - alpha) * I[p_idx] / N\n",
    "        diff = np.sqrt(sum((I - R) ** 2)) \n",
    "        I = R                              # compute L2 norm\n",
    "        l2_norm.append(diff)\n",
    "        if diff <= tolerance:                                   # check if it has converged\n",
    "            converge_iter += 1                                  # increment convergence iteration\n",
    "        else:\n",
    "            converge_iter = 0  # This is to ensure the algorithm converges for 4 consecutive iterations otherwise it is reset to 0\n",
    "        sum_page_rank.append(sum(R))\n",
    "        iterations += 1  # Increment iterations\n",
    "\n",
    "    ranked_pages = zip(P, R)    # combine the nodes and rank with a 1:1 mapping\n",
    "\n",
    "    # returns the list of pages sorted by rank in descending order\n",
    "    return sorted(ranked_pages, key=lambda x: x[1], reverse=True) , sum_page_rank, l2_norm"
   ]
  },
  {
   "cell_type": "code",
   "execution_count": 143,
   "metadata": {
    "collapsed": false
   },
   "outputs": [],
   "source": [
    "# Test graph\n",
    "G = {'A':['D','E', 'F'], 'B': ['A', 'F'], 'C': ['A', 'B', 'D'], 'D': ['B','C'], 'E':['B', 'C', 'D','F'],'F':['A', 'B', 'D']}\n",
    "G = reverseGraph(G)\n",
    "rank_test = pageRank(G, 6, 0.15, 10)"
   ]
  },
  {
   "cell_type": "code",
   "execution_count": 145,
   "metadata": {
    "collapsed": false
   },
   "outputs": [
    {
     "data": {
      "text/plain": [
       "[('A', 0.2520363760281718),\n",
       " ('E', 0.18710661014291707),\n",
       " ('F', 0.15129376593475066),\n",
       " ('C', 0.15129376593475066),\n",
       " ('B', 0.13930650918251075),\n",
       " ('D', 0.11896297277689877)]"
      ]
     },
     "execution_count": 145,
     "metadata": {},
     "output_type": "execute_result"
    }
   ],
   "source": [
    "rank_test[0]"
   ]
  },
  {
   "cell_type": "code",
   "execution_count": 110,
   "metadata": {
    "collapsed": true
   },
   "outputs": [],
   "source": [
    "# Page rank on G1 with lambda = 0.15\n",
    "ranked_pages,page_rank_sum,l2_norm = pageRank(G1_rev, len(G1_rev.items()), 0.15, 100)"
   ]
  },
  {
   "cell_type": "code",
   "execution_count": 121,
   "metadata": {
    "collapsed": false
   },
   "outputs": [],
   "source": [
    "# Page rank on G2 with lambda = 0.15\n",
    "ranked_pages_focused,page_rank_sum_focused,l2_norm_focused = pageRank(G2_rev, len(G2_rev.items()), 0.15, 100)"
   ]
  },
  {
   "cell_type": "markdown",
   "metadata": {},
   "source": [
    "## Task 4"
   ]
  },
  {
   "cell_type": "code",
   "execution_count": 112,
   "metadata": {
    "collapsed": true
   },
   "outputs": [],
   "source": [
    "# Rerun page rank with different lambda\n",
    "lambda_25_rank, sum_25, norm_25 = pageRank(G1_rev, len(G1_rev.items()), 0.25, 100)\n",
    "lambda_35, sum_35, norm_35 = pageRank(G1_rev,  len(G1_rev.items()), 0.35, 100)\n",
    "lambda_5, sum_5, norm_5 = pageRank(G1_rev, len(G1_rev.items()), 0.5, 100)"
   ]
  },
  {
   "cell_type": "code",
   "execution_count": null,
   "metadata": {
    "collapsed": true
   },
   "outputs": [],
   "source": []
  },
  {
   "cell_type": "code",
   "execution_count": 113,
   "metadata": {
    "collapsed": false
   },
   "outputs": [
    {
     "data": {
      "text/plain": [
       "Text(0, 0.5, 'Number of iterations')"
      ]
     },
     "execution_count": 113,
     "metadata": {},
     "output_type": "execute_result"
    },
    {
     "data": {
      "image/png": "[encoded data removed]",
      "text/plain": [
       "<Figure size 432x288 with 1 Axes>"
      ]
     },
     "metadata": {
      "needs_background": "light"
     },
     "output_type": "display_data"
    }
   ],
   "source": [
    "x = [0.15, 0.25, 0.35, 0.5]\n",
    "y = [len(l2_norm), len(norm_25), len(norm_35), len(norm_5)]\n",
    "plt.plot(x, y)\n",
    "plt.xlabel(\"lambda\")\n",
    "plt.ylabel(\"Number of iterations\")"
   ]
  },
  {
   "cell_type": "code",
   "execution_count": 114,
   "metadata": {
    "collapsed": false
   },
   "outputs": [
    {
     "data": {
      "text/plain": [
       "Text(0, 0.5, 'Highest page rank value')"
      ]
     },
     "execution_count": 114,
     "metadata": {},
     "output_type": "execute_result"
    },
    {
     "data": {
      "image/png": "[encoded data removed]",
      "text/plain": [
       "<Figure size 432x288 with 1 Axes>"
      ]
     },
     "metadata": {
      "needs_background": "light"
     },
     "output_type": "display_data"
    }
   ],
   "source": [
    "y = [ranked_pages[0][1], lambda_25_rank[0][1], lambda_35[0][1], lambda_5[0][1]]\n",
    "plt.plot(x, y)\n",
    "plt.xlabel(\"lambda\")\n",
    "plt.ylabel(\"Highest page rank value\")"
   ]
  },
  {
   "cell_type": "code",
   "execution_count": 125,
   "metadata": {
    "collapsed": true
   },
   "outputs": [],
   "source": [
    "# Same for G2\n",
    "lambda_25_rank, sum_25, norm_25 = pageRank(G2_rev, len(G2_rev.items()), 0.25, 100)\n",
    "lambda_35, sum_35, norm_35 = pageRank(G2_rev,  len(G2_rev.items()), 0.35, 100)\n",
    "lambda_5, sum_5, norm_5 = pageRank(G2_rev, len(G2_rev.items()), 0.5, 100)"
   ]
  },
  {
   "cell_type": "code",
   "execution_count": 127,
   "metadata": {
    "collapsed": true
   },
   "outputs": [],
   "source": [
    "# Rerun the algorithm for exactly 4 iterations\n",
    "ranked_4, sum_4, norm_4 = pageRank(G1_rev, len(G1_rev.items()), 0.15, 4)\n",
    "ranked_4_focused, sum_4_focused, norm_4_focused = pageRank(G2_rev, len(G2_rev.items()), 0.15, 4)"
   ]
  },
  {
   "cell_type": "code",
   "execution_count": 131,
   "metadata": {
    "collapsed": false,
    "scrolled": true
   },
   "outputs": [
    {
     "data": {
      "text/plain": [
       "[('United_States', 0.010147337486326385),\n",
       " ('Earth', 0.008343294594921273),\n",
       " ('NASA', 0.007691943297653505),\n",
       " ('Sun', 0.006309901015871733),\n",
       " ('India', 0.00598393804533771),\n",
       " ('Australia', 0.005814353909201013),\n",
       " ('Astronomy', 0.005670561401520953),\n",
       " ('Moon', 0.00531308342320426),\n",
       " ('United_Kingdom', 0.005176488410628981),\n",
       " ('Europe', 0.004869988923359988)]"
      ]
     },
     "execution_count": 131,
     "metadata": {},
     "output_type": "execute_result"
    }
   ],
   "source": [
    "ranked_pages[:10]\n"
   ]
  },
  {
   "cell_type": "code",
   "execution_count": 132,
   "metadata": {
    "collapsed": false
   },
   "outputs": [
    {
     "data": {
      "text/plain": [
       "[('United_States', 0.009903751679761184),\n",
       " ('Earth', 0.008382124074801631),\n",
       " ('NASA', 0.007787599209815686),\n",
       " ('Sun', 0.006355677116928127),\n",
       " ('India', 0.005907654412157906),\n",
       " ('Astronomy', 0.005662740880851322),\n",
       " ('Australia', 0.0056097991360180835),\n",
       " ('Moon', 0.0054019449386202584),\n",
       " ('United_Kingdom', 0.005020821085270954),\n",
       " ('Europe', 0.004786409671927112)]"
      ]
     },
     "execution_count": 132,
     "metadata": {},
     "output_type": "execute_result"
    }
   ],
   "source": [
    "ranked_4[:10]"
   ]
  },
  {
   "cell_type": "code",
   "execution_count": 133,
   "metadata": {
    "collapsed": true
   },
   "outputs": [],
   "source": [
    "# Sort the documents based on inlink count and compare with output of page rank\n",
    "top_inlinks_G1 = [key for key in sorted(G1, key=G1.__getitem__, reverse=True)][:25]\n",
    "top_inlins_G2 =  [key for key in sorted(G2, key=G2.__getitem__, reverse=True)][:25]"
   ]
  },
  {
   "cell_type": "code",
   "execution_count": 146,
   "metadata": {
    "collapsed": false
   },
   "outputs": [],
   "source": [
    "top_25_pages = [x[0] for x in ranked_pages][:25]\n",
    "top_25_focused = [x[0] for x in ranked_pages_focused][:25]"
   ]
  },
  {
   "cell_type": "code",
   "execution_count": 147,
   "metadata": {
    "collapsed": false
   },
   "outputs": [
    {
     "data": {
      "text/plain": [
       "['Francesco_Maria_Grimaldi',\n",
       " 'Joanna_(Joka)_Maria_Vandenberg',\n",
       " 'Evolution_of_water_on_Mars_and_Earth',\n",
       " 'Evidence_of_water_on_Mars_found_by_Mars_Reconnaissance_Orbiter',\n",
       " 'Mariner_11',\n",
       " 'Mariner_12',\n",
       " 'Uranus_Pathfinder',\n",
       " 'Maryland_Stadium',\n",
       " 'Mighty_Sound_of_Maryland',\n",
       " 'Maryland_Terrapins_football',\n",
       " 'Maryland_Terrapins_men%27s_lacrosse',\n",
       " 'University_of_Maryland_Golf_Course',\n",
       " 'University_of_Maryland_Arboretum_%26_Botanical_Garden',\n",
       " 'University_of_Maryland_Libraries',\n",
       " 'Maryland_Terrapins',\n",
       " 'Mount_St._Mary%27s_University',\n",
       " 'University_of_Maryland,_Baltimore',\n",
       " 'Flag_of_Maryland',\n",
       " 'Maryland_General_Assembly',\n",
       " 'University_System_of_Maryland',\n",
       " 'Maryland_Transit_Administration',\n",
       " 'Province_of_Maryland',\n",
       " 'University_of_Maryland,_Eastern_Shore',\n",
       " 'University_of_Maryland_System',\n",
       " 'Maryland_Food_Collective']"
      ]
     },
     "execution_count": 147,
     "metadata": {},
     "output_type": "execute_result"
    }
   ],
   "source": [
    "top_inlins_G2"
   ]
  },
  {
   "cell_type": "code",
   "execution_count": 148,
   "metadata": {
    "collapsed": false
   },
   "outputs": [
    {
     "data": {
      "text/plain": [
       "['Mars',\n",
       " 'Submarine',\n",
       " 'Maryland',\n",
       " 'Low_Earth_orbit',\n",
       " 'Orbit',\n",
       " 'Orbital_eccentricity',\n",
       " 'Exploration_of_Mars',\n",
       " 'Colonization_of_Mars',\n",
       " 'Marshall_Plan',\n",
       " 'Lagrangian_point',\n",
       " 'Orbital_period',\n",
       " 'Lockheed_Martin',\n",
       " 'Mars_rover',\n",
       " 'Human_mission_to_Mars',\n",
       " 'Geosynchronous_orbit',\n",
       " 'Geocentric_orbit',\n",
       " 'Mars_Society',\n",
       " 'Perturbation_(astronomy)',\n",
       " 'Hohmann_transfer_orbit',\n",
       " 'Mars_landing',\n",
       " 'Mars_to_Stay',\n",
       " 'Terraforming_of_Mars',\n",
       " 'Inspiration_Mars_Foundation',\n",
       " 'Orbital_mechanics',\n",
       " 'Heliocentric_orbit']"
      ]
     },
     "execution_count": 148,
     "metadata": {},
     "output_type": "execute_result"
    }
   ],
   "source": [
    "top_25_focused"
   ]
  }
 ],
 "metadata": {
  "kernelspec": {
   "display_name": "Python 3",
   "language": "python",
   "name": "python3"
  },
  "language_info": {
   "codemirror_mode": {
    "name": "ipython",
    "version": 3
   },
   "file_extension": ".py",
   "mimetype": "text/x-python",
   "name": "python",
   "nbconvert_exporter": "python",
   "pygments_lexer": "ipython3",
   "version": "3.7.1"
  }
 },
 "nbformat": 4,
 "nbformat_minor": 0
}
