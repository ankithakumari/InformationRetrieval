{
 "cells": [
  {
   "cell_type": "markdown",
   "metadata": {},
   "source": [
    "## Verify the Zipf's law for trigrams in a corpus.  Corpus is created based on a list of wiki urls in a text file(BFS.txt). Tokenize the downloaded documents, create trigrams , extract the frequency of words,  plot the graph of rank of words vs probability"
   ]
  },
  {
   "cell_type": "code",
   "execution_count": 2,
   "metadata": {
    "collapsed": false
   },
   "outputs": [],
   "source": [
    "import sys\n",
    "sys.path.append(\"/Library/Frameworks/Python.framework/Versions/3.7/lib/python3.7/site-packages\")\n",
    "\n",
    "\n",
    "import requests\n",
    "\n",
    "from bs4 import BeautifulSoup\n",
    "import time\n",
    "import string\n",
    "import os\n",
    "import re\n",
    "import collections\n",
    "from nltk import word_tokenize, regexp_tokenize, ngrams, FreqDist\n",
    "from nltk.corpus import stopwords\n",
    "import numpy as np\n",
    "from urllib.parse import urlsplit\n",
    "import matplotlib.pyplot as plt\n",
    "%matplotlib inline\n"
   ]
  },
  {
   "cell_type": "code",
   "execution_count": 3,
   "metadata": {
    "collapsed": true
   },
   "outputs": [],
   "source": [
    "\n",
    "\"\"\"\n",
    "The function removes citations in the text, does case folding and deletes punctuations \n",
    "except for hyphens.\n",
    "Input: text to be modified, boolean values for whether to perform case folding and delete punctuations\n",
    "Output: Parsed text\n",
    "\"\"\"\n",
    "\n",
    "def parser(text, del_punct=True, case_folding= True):\n",
    "    text = re.sub(\"[\\[].*?[\\]]\", \"\", text)\n",
    "    if case_folding:\n",
    "        text = text.casefold()\n",
    "    if del_punct:\n",
    "        exclude = set(string.punctuation)\n",
    "        exclude.remove(\"-\")\n",
    "        text = ''.join([c for c in text if c not in exclude])\n",
    "    return text\n",
    "\n",
    "\n",
    "\"\"\"\n",
    "Helper function to retrieve page and return textual content of the page along with title\n",
    "Input: URL of the document to be retrieved\n",
    "Output: Textual content in the page\n",
    "\"\"\"    \n",
    "\n",
    "def getPage(url):\n",
    "    time.sleep(1)\n",
    "    page = requests.get(url)\n",
    "    soup = BeautifulSoup(page.content, 'html.parser')\n",
    "    title = soup.find('title').string\n",
    "    texts = soup.find_all('p')\n",
    "    textual_content = title\n",
    "    for item in texts:\n",
    "        textual_content += item.text\n",
    "    return textual_content\n",
    "    \n",
    "    "
   ]
  },
  {
   "cell_type": "code",
   "execution_count": 5,
   "metadata": {
    "collapsed": true
   },
   "outputs": [],
   "source": [
    "\n",
    "\"\"\"Helper function to get title of the page from a URL\n",
    " Input: URL , \n",
    " Output: Title of the page pointed to by the url\n",
    "\"\"\"\n",
    "\n",
    "def get_docId(url):\n",
    "    parsed = urlsplit(url)\n",
    "    return parsed.path.split('/')[2]\n"
   ]
  },
  {
   "cell_type": "code",
   "execution_count": 6,
   "metadata": {
    "collapsed": false
   },
   "outputs": [],
   "source": [
    "\"\"\"\n",
    "retrieve textual content from a given list of urls\n",
    "Output: Dictionary with urls and respective content\n",
    "\"\"\"\n",
    "bfs_content = {}\n",
    "url_list = open('BFS.txt', 'r').read().splitlines()\n",
    "for line in url_list:\n",
    "    content = getPage(line)\n",
    "    bfs_content[line] = content"
   ]
  },
  {
   "cell_type": "code",
   "execution_count": 7,
   "metadata": {
    "collapsed": false
   },
   "outputs": [],
   "source": [
    "\"\"\"\n",
    "parse and tokenize downloaded articles\n",
    "Output: tokenized articles\n",
    "\"\"\"\n",
    "bfs_urls = {}\n",
    "for link, content in bfs_content.items():\n",
    "    parsed_content = parser(content)\n",
    "    parsed_content = word_tokenize(parsed_content)\n",
    "    bfs_urls[link] = parsed_content"
   ]
  },
  {
   "cell_type": "code",
   "execution_count": 12,
   "metadata": {
    "collapsed": false
   },
   "outputs": [],
   "source": [
    "\"\"\"\n",
    "Save articles with file name as title\n",
    "\"\"\"\n",
    "for link, tokens in bfs_urls.items():\n",
    "        filename = get_docId(link)                              # Get title\n",
    "        f = open(filename+\".txt\", \"w+\")\n",
    "        f.write(''.join([str(x) + '\\n' for x in tokens]))       # Save tokens in file\n",
    "        f.close()"
   ]
  },
  {
   "cell_type": "code",
   "execution_count": 9,
   "metadata": {
    "collapsed": false
   },
   "outputs": [],
   "source": [
    " # Create trigrams and store associated frequency\n",
    "trigram_ds = {}\n",
    "for url, tokens in bfs_urls.items():\n",
    "    trigram = ngrams(tokens, 3)\n",
    "    fdist = FreqDist(trigram)\n",
    "    for tri, freq in fdist.items():\n",
    "        if tri in trigram_ds:\n",
    "                trigram_ds[tri] += freq\n",
    "        else:\n",
    "                trigram_ds[tri] = freq\n",
    "    \n",
    "\n",
    "    \n",
    "    "
   ]
  },
  {
   "cell_type": "code",
   "execution_count": 10,
   "metadata": {
    "collapsed": false
   },
   "outputs": [],
   "source": [
    "# write trigrams and frequency to a file\n",
    "trigrams = list(trigram_ds.keys())\n",
    "f = open(\"trigrams.txt\", \"w+\")\n",
    "for item, val in trigram_ds.items():\n",
    "    f.write(' '.join(trigrams[0]) + \": \" + str(val) + \"\\n\")\n",
    "f.close()\n",
    "\n",
    "\n"
   ]
  },
  {
   "cell_type": "code",
   "execution_count": 17,
   "metadata": {
    "collapsed": false
   },
   "outputs": [],
   "source": [
    " # Sort the trigrams data structure based on the frequency in descending order\n",
    "sorted_trigrams = [(key, trigram_ds[key]) for key in sorted(trigram_ds, key=trigram_ds.__getitem__, reverse=True)]\n",
    "\n",
    "#Save the trigrams and frequency in a file\n",
    "f = open(\"trigram_freq.txt\", \"w\")\n",
    "print(sorted_trigrams, file=f)\n",
    "f.close()\n",
    "\n",
    "sorted_trigrams= np.array(sorted_trigrams)\n",
    "N = sum(sorted_trigrams[:, 1]) # Total trigrams in the corpus\n",
    "new_col = np.arange(1, len(sorted_trigrams)+1)\n",
    "sorted_trigrams = np.insert(sorted_trigrams, 2, new_col, axis = 1) # append rank to trigrams"
   ]
  },
  {
   "cell_type": "code",
   "execution_count": 67,
   "metadata": {
    "collapsed": false
   },
   "outputs": [
    {
     "data": {
      "text/plain": [
       "Text(0.5, 1.0, 'Rank vs Frequency')"
      ]
     },
     "execution_count": 67,
     "metadata": {},
     "output_type": "execute_result"
    },
    {
     "data": {
      "image/png": "[encoded data removed]",
      "text/plain": [
       "<Figure size 432x288 with 1 Axes>"
      ]
     },
     "metadata": {
      "needs_background": "light"
     },
     "output_type": "display_data"
    }
   ],
   "source": [
    "plt.loglog(sorted_trigrams[:,2], sorted_trigrams[:,1])\n",
    "plt.loglog(sorted_trigrams[:,2], 0.025 * N/sorted_trigrams[:,2], c= 'r')\n",
    "plt.xlabel(\"Rank\")\n",
    "plt.ylabel(\"Frequency\")\n",
    "plt.title(\"Rank vs Frequency\")"
   ]
  },
  {
   "cell_type": "code",
   "execution_count": 69,
   "metadata": {
    "collapsed": false
   },
   "outputs": [
    {
     "data": {
      "text/plain": [
       "Text(0, 0.5, 'Probability')"
      ]
     },
     "execution_count": 69,
     "metadata": {},
     "output_type": "execute_result"
    },
    {
     "data": {
      "image/png": "[encoded data removed]",
      "text/plain": [
       "<Figure size 432x288 with 1 Axes>"
      ]
     },
     "metadata": {
      "needs_background": "light"
     },
     "output_type": "display_data"
    }
   ],
   "source": [
    "Pr = (sorted_trigrams[:,1] /N)\n",
    "plt.scatter(sorted_trigrams[:,2], 0.025/sorted_trigrams[:,2])\n",
    "plt.title(\"Rank vs probability\")\n",
    "plt.xlabel(\"Rank\")\n",
    "plt.ylabel(\"Probability\")"
   ]
  },
  {
   "cell_type": "code",
   "execution_count": null,
   "metadata": {
    "collapsed": true
   },
   "outputs": [],
   "source": []
  }
 ],
 "metadata": {
  "kernelspec": {
   "display_name": "Python 3",
   "language": "python",
   "name": "python3"
  },
  "language_info": {
   "codemirror_mode": {
    "name": "ipython",
    "version": 3
   },
   "file_extension": ".py",
   "mimetype": "text/x-python",
   "name": "python",
   "nbconvert_exporter": "python",
   "pygments_lexer": "ipython3",
   "version": "3.7.1"
  }
 },
 "nbformat": 4,
 "nbformat_minor": 0
}
